{
 "cells": [
  {
   "cell_type": "code",
   "execution_count": 2,
   "metadata": {},
   "outputs": [
    {
     "name": "stdout",
     "output_type": "stream",
     "text": [
      "Reading Excel file: GL_FACT.xlsx\n",
      "Excel file read successfully.\n",
      "Connecting to SQLite database: QTX_BankData.db\n",
      "Writing data to GL_Fact table...\n",
      "Data from GL_FACT.xlsx has been successfully loaded into the GL_Fact table in the QTX_BankData.db database.\n",
      "\n",
      "Verifying data...\n",
      "First 5 rows from the database:\n",
      "('2022.Jan', 'Non-Interco', 1254132, 'P00000', 'Actual', 'B4063C272', 'EndBal', 'L100', 7666.0, 7666.0, '01/31/2022', 'Assets')\n",
      "('2022.Jan', 'Non-Interco', 1360343, 'P00000', 'Forecast', 'B9672C514', 'EndBal', 'D200', 7957.130275811487, 7957.130275811487, '01/31/2022', 'Assets')\n",
      "('2022.Jan', 'Non-Interco', 1364195, 'P00000', 'Actual', 'B4208C726', 'IntExp', 'Z999', 2014.0, 2014.0, '01/31/2022', 'Assets')\n",
      "('2022.Jan', 'Non-Interco', 1567012, 'P00000', 'Budget', 'B6675C974', 'IntExp', 'Z999', 2056.003599291299, 2056.003599291299, '01/31/2022', 'Assets')\n",
      "('2022.Jan', 'Non-Interco', 1692530, 'P00000', 'Forecast', 'B9450C740', 'AvgBal', 'L200', 2114.222235103407, 2114.222235103407, '01/31/2022', 'Assets')\n"
     ]
    }
   ],
   "source": [
    "import pandas as pd\n",
    "import sqlite3\n",
    "import os\n",
    "\n",
    "# Configuration\n",
    "excel_file = 'GL_FACT.xlsx'\n",
    "database_name = 'QTX_BankData.db'\n",
    "table_name = 'GL_Fact'\n",
    "\n",
    "# Get the current directory\n",
    "current_dir = os.getcwd()\n",
    "\n",
    "# Construct the full path to the Excel file and the database\n",
    "excel_path = os.path.join(current_dir, excel_file)\n",
    "db_path = os.path.join(current_dir, database_name)\n",
    "\n",
    "try:\n",
    "    # Read the Excel file\n",
    "    print(f\"Reading Excel file: {excel_file}\")\n",
    "    df = pd.read_excel(excel_path)\n",
    "    print(\"Excel file read successfully.\")\n",
    "\n",
    "    # Connect to SQLite database (it will be created if it doesn't exist)\n",
    "    print(f\"Connecting to SQLite database: {database_name}\")\n",
    "    conn = sqlite3.connect(db_path)\n",
    "\n",
    "    # Write the dataframe to SQLite\n",
    "    print(f\"Writing data to {table_name} table...\")\n",
    "    df.to_sql(table_name, conn, if_exists='replace', index=False)\n",
    "    \n",
    "    print(f\"Data from {excel_file} has been successfully loaded into the {table_name} table in the {database_name} database.\")\n",
    "\n",
    "    # Optional: Verify the data\n",
    "    print(\"\\nVerifying data...\")\n",
    "    cursor = conn.cursor()\n",
    "    cursor.execute(f\"SELECT * FROM {table_name} LIMIT 5\")\n",
    "    rows = cursor.fetchall()\n",
    "    print(\"First 5 rows from the database:\")\n",
    "    for row in rows:\n",
    "        print(row)\n",
    "\n",
    "    # Close the connection\n",
    "    conn.close()\n",
    "\n",
    "except Exception as e:\n",
    "    print(f\"An error occurred: {str(e)}\")\n",
    "    print(\"Please check your Excel file and ensure it's in the correct location.\")"
   ]
  }
 ],
 "metadata": {
  "kernelspec": {
   "display_name": ".venv",
   "language": "python",
   "name": "python3"
  },
  "language_info": {
   "codemirror_mode": {
    "name": "ipython",
    "version": 3
   },
   "file_extension": ".py",
   "mimetype": "text/x-python",
   "name": "python",
   "nbconvert_exporter": "python",
   "pygments_lexer": "ipython3",
   "version": "3.12.3"
  }
 },
 "nbformat": 4,
 "nbformat_minor": 2
}
