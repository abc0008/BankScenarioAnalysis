{
 "cells": [
  {
   "cell_type": "code",
   "execution_count": 1,
   "metadata": {},
   "outputs": [
    {
     "name": "stdout",
     "output_type": "stream",
     "text": [
      "Reading Excel file: GL_FACT.xlsx\n",
      "An error occurred: [Errno 2] No such file or directory: '/Users/victoriacardell/Documents/Documents - Victoria’s MacBook Air/AlexCoding/BankScenarioAnalysis/Misc Supporting Bank-dashboard/GL_FACT.xlsx'\n",
      "Please check your Excel file and ensure it's in the correct location.\n"
     ]
    }
   ],
   "source": [
    "import pandas as pd\n",
    "import sqlite3\n",
    "import os\n",
    "\n",
    "# Configuration\n",
    "excel_file = 'GL_FACT.xlsx'\n",
    "database_name = 'Sample_BankData.db'\n",
    "table_name = 'GL_Fact'\n",
    "\n",
    "# Get the current directory\n",
    "current_dir = os.getcwd()\n",
    "\n",
    "# Construct the full path to the Excel file and the database\n",
    "excel_path = os.path.join(current_dir, excel_file)\n",
    "db_path = os.path.join(current_dir, database_name)\n",
    "\n",
    "try:\n",
    "    # Read the Excel file\n",
    "    print(f\"Reading Excel file: {excel_file}\")\n",
    "    df = pd.read_excel(excel_path)\n",
    "    print(\"Excel file read successfully.\")\n",
    "\n",
    "    # Connect to SQLite database (it will be created if it doesn't exist)\n",
    "    print(f\"Connecting to SQLite database: {database_name}\")\n",
    "    conn = sqlite3.connect(db_path)\n",
    "\n",
    "    # Write the dataframe to SQLite\n",
    "    print(f\"Writing data to {table_name} table...\")\n",
    "    df.to_sql(table_name, conn, if_exists='replace', index=False)\n",
    "    \n",
    "    print(f\"Data from {excel_file} has been successfully loaded into the {table_name} table in the {database_name} database.\")\n",
    "\n",
    "    # Optional: Verify the data\n",
    "    print(\"\\nVerifying data...\")\n",
    "    cursor = conn.cursor()\n",
    "    cursor.execute(f\"SELECT * FROM {table_name} LIMIT 5\")\n",
    "    rows = cursor.fetchall()\n",
    "    print(\"First 5 rows from the database:\")\n",
    "    for row in rows:\n",
    "        print(row)\n",
    "\n",
    "    # Close the connection\n",
    "    conn.close()\n",
    "\n",
    "except Exception as e:\n",
    "    print(f\"An error occurred: {str(e)}\")\n",
    "    print(\"Please check your Excel file and ensure it's in the correct location.\")"
   ]
  }
 ],
 "metadata": {
  "kernelspec": {
   "display_name": ".venv",
   "language": "python",
   "name": "python3"
  },
  "language_info": {
   "codemirror_mode": {
    "name": "ipython",
    "version": 3
   },
   "file_extension": ".py",
   "mimetype": "text/x-python",
   "name": "python",
   "nbconvert_exporter": "python",
   "pygments_lexer": "ipython3",
   "version": "3.12.3"
  }
 },
 "nbformat": 4,
 "nbformat_minor": 2
}
